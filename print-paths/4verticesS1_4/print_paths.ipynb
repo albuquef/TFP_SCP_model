{
 "cells": [
  {
   "cell_type": "code",
   "execution_count": 2,
   "id": "2102e341",
   "metadata": {},
   "outputs": [],
   "source": [
    "import pandas as pd\n",
    "import networkx as nx\n",
    "import matplotlib.pyplot as plt\n",
    "import numpy as np\n",
    "import random"
   ]
  },
  {
   "cell_type": "code",
   "execution_count": 2,
   "id": "959de21f",
   "metadata": {},
   "outputs": [
    {
     "name": "stdout",
     "output_type": "stream",
     "text": [
      "Solution value = 6.0 \n",
      "\n",
      "x[1,1,1] = 1 \n",
      "\n",
      "x[2,1,2] = 1 \n",
      "\n",
      "x[4,1,3] = 1 \n",
      "\n",
      "y[1,2,1] = 1 \n",
      "\n",
      "y[1,4,1] = 1 \n",
      "\n",
      "y[2,4,1] = 1 \n",
      "\n",
      "f[1,4,1,2] = 1 \n",
      "\n",
      "f[1,4,2,3] = 1 \n",
      "\n",
      "f[1,4,3,4] = 1 \n",
      "\n",
      "f[2,4,2,3] = 1 \n",
      "\n",
      "f[2,4,3,4] = 1 \n",
      "\n"
     ]
    }
   ],
   "source": [
    "arquivo = open('./25verticesS1_1.txt','r')\n",
    "for i in arquivo:\n",
    "    print(i)"
   ]
  },
  {
   "cell_type": "code",
   "execution_count": 3,
   "id": "c165973a",
   "metadata": {},
   "outputs": [
    {
     "name": "stdout",
     "output_type": "stream",
     "text": [
      "1 4 1 2\n",
      "1 4 2 3\n",
      "1 4 3 4\n",
      "2 4 2 3\n",
      "2 4 3 4\n"
     ]
    }
   ],
   "source": [
    "arquivo = open('./25verticesS1_1.txt','r')\n",
    "for i in arquivo:\n",
    "    linha_original = i.split()\n",
    "    if linha_original[0][0] == 'f':\n",
    "        linha = linha_original[0].split(',')\n",
    "        u = linha[0][2]\n",
    "        v = linha[1]\n",
    "        p = linha[2]\n",
    "        q = linha[3][0]\n",
    "        print(u,v,p,q)\n",
    "        "
   ]
  },
  {
   "cell_type": "code",
   "execution_count": 4,
   "id": "410bd33e",
   "metadata": {},
   "outputs": [],
   "source": [
    "G = nx.DiGraph()\n",
    "G.add_edges_from([('A','B'), ('A', 'C'), ('C', 'B')])\n",
    "\n",
    "# pos = nx.spring_layout(G)"
   ]
  },
  {
   "cell_type": "code",
   "execution_count": 5,
   "id": "3acaa339",
   "metadata": {},
   "outputs": [
    {
     "data": {
      "text/plain": [
       "<function matplotlib.pyplot.show(close=None, block=None)>"
      ]
     },
     "execution_count": 5,
     "metadata": {},
     "output_type": "execute_result"
    },
    {
     "data": {
      "image/png": "[encoded data removed]",
      "text/plain": [
       "<Figure size 432x288 with 1 Axes>"
      ]
     },
     "metadata": {},
     "output_type": "display_data"
    }
   ],
   "source": [
    "random.seed(1)\n",
    "\n",
    "pos = nx.spring_layout(G)\n",
    "\n",
    "nx.draw_networkx_nodes(G, pos, node_size=500)\n",
    "nx.draw_networkx_edges(G, pos, edgelist=G.edges(), edge_color = 'black')\n",
    "nx.draw_networkx_labels(G,pos)\n",
    "plt.show\n"
   ]
  },
  {
   "cell_type": "code",
   "execution_count": 1,
   "id": "1f758737",
   "metadata": {},
   "outputs": [
    {
     "ename": "NameError",
     "evalue": "name 'random' is not defined",
     "output_type": "error",
     "traceback": [
      "\u001b[0;31m---------------------------------------------------------------------------\u001b[0m",
      "\u001b[0;31mNameError\u001b[0m                                 Traceback (most recent call last)",
      "\u001b[0;32m<ipython-input-1-8139e341c66b>\u001b[0m in \u001b[0;36m<module>\u001b[0;34m\u001b[0m\n\u001b[1;32m      2\u001b[0m \u001b[0mInstance_txt\u001b[0m \u001b[0;34m=\u001b[0m \u001b[0;34m'/'\u001b[0m\u001b[0;34m+\u001b[0m\u001b[0mInstance\u001b[0m \u001b[0;34m+\u001b[0m \u001b[0;34m'.txt'\u001b[0m\u001b[0;34m\u001b[0m\u001b[0;34m\u001b[0m\u001b[0m\n\u001b[1;32m      3\u001b[0m \u001b[0;34m\u001b[0m\u001b[0m\n\u001b[0;32m----> 4\u001b[0;31m \u001b[0mrandom\u001b[0m\u001b[0;34m.\u001b[0m\u001b[0mseed\u001b[0m\u001b[0;34m(\u001b[0m\u001b[0;36m1\u001b[0m\u001b[0;34m)\u001b[0m\u001b[0;34m\u001b[0m\u001b[0;34m\u001b[0m\u001b[0m\n\u001b[0m\u001b[1;32m      5\u001b[0m \u001b[0mG\u001b[0m \u001b[0;34m=\u001b[0m \u001b[0mnx\u001b[0m\u001b[0;34m.\u001b[0m\u001b[0mDiGraph\u001b[0m\u001b[0;34m(\u001b[0m\u001b[0;34m)\u001b[0m\u001b[0;34m\u001b[0m\u001b[0;34m\u001b[0m\u001b[0m\n\u001b[1;32m      6\u001b[0m \u001b[0;34m\u001b[0m\u001b[0m\n",
      "\u001b[0;31mNameError\u001b[0m: name 'random' is not defined"
     ]
    }
   ],
   "source": [
    "\n",
    "\n",
    "Instance = '25verticesS1_6'\n",
    "Instance_txt = '/'+Instance + '.txt'\n",
    "\n",
    "random.seed(1)\n",
    "G = nx.DiGraph()\n",
    "\n",
    "u_aux = -1\n",
    "v_aux = -1\n",
    "\n",
    "arquivo = open('./' + Instance + Instance_txt,'r')\n",
    "# arquivo = open('.' + Instance_txt,'r')\n",
    "file_lines = arquivo.readlines()\n",
    "last_line = file_lines[len(file_lines)-1]\n",
    "\n",
    "arquivo = open('./' + Instance + Instance_txt,'r')\n",
    "# arquivo = open('.' + Instance_txt,'r')\n",
    "for i in arquivo:\n",
    "    linha_original = i.split()\n",
    "    if linha_original[0][0] == 'f':\n",
    "        linha = linha_original[0].split(',')\n",
    "        \n",
    "        u = linha[0].split('[')[1]\n",
    "        v = linha[1]\n",
    "        p = linha[2]\n",
    "        q = linha[3].split(']')[0]\n",
    "        \n",
    "        if u!= u_aux or v!= v_aux:\n",
    "            if u_aux != -1 and v_aux !=-1:\n",
    "                pos = nx.spring_layout(G)\n",
    "                # pos = nx.random_layout(G)\n",
    "                nx.draw_networkx_nodes(G, pos, node_size=500)\n",
    "                nx.draw_networkx_edges(G, pos, edgelist=G.edges(), edge_color = 'black')\n",
    "                nx.draw_networkx_labels(G,pos)\n",
    "                # plt.show\n",
    "                plt.savefig('./' + Instance + Instance_txt+'-'+str(u_aux) + '_' + str(v_aux) +'.png')\n",
    "                plt.clf()\n",
    "                print(u_aux,v_aux)\n",
    "            # else:\n",
    "            #     G.add_edge(p,q)\n",
    "            #     print(u,v,p,q)\n",
    "            u_aux = u\n",
    "            v_aux = v\n",
    "            # G.clear()\n",
    "            G = nx.create_empty_copy(G)\n",
    "            \n",
    "        G.add_edge(p,q)\n",
    "        # print(u,v,p,q)\n",
    "        # print(i)\n",
    "        if i == last_line:\n",
    "            # pos = nx.spring_layout(G)\n",
    "            # pos = nx.random_layout(G)\n",
    "            nx.draw_networkx_nodes(G, pos, node_size=500)\n",
    "            nx.draw_networkx_edges(G, pos, edgelist=G.edges(), edge_color = 'black')\n",
    "            nx.draw_networkx_labels(G,pos)\n",
    "            # plt.show\n",
    "            plt.savefig('./' + Instance + Instance_txt+'-'+str(u_aux) + '_' + str(v_aux) +'.png')\n",
    "            plt.clf()\n",
    "            print(u_aux,v_aux)\n",
    "        \n",
    "        \n",
    "\n",
    "\n",
    "\n",
    "# random.seed(1)\n",
    "\n",
    "# pos = nx.spring_layout(G)\n",
    "\n",
    "# nx.draw_networkx_nodes(G, pos, node_size=500)\n",
    "# nx.draw_networkx_edges(G, pos, edgelist=G.edges(), edge_color = 'black')\n",
    "# nx.draw_networkx_labels(G,pos)\n",
    "# plt.show\n"
   ]
  },
  {
   "cell_type": "code",
   "execution_count": 1,
   "id": "82a65673",
   "metadata": {},
   "outputs": [],
   "source": [
    "import pandas as pd\n",
    "import networkx as nx\n",
    "import matplotlib.pyplot as plt\n",
    "import numpy as np\n",
    "import random"
   ]
  },
  {
   "cell_type": "code",
   "execution_count": 2,
   "id": "2b3b16e0",
   "metadata": {},
   "outputs": [
    {
     "data": {
      "text/plain": [
       "<Figure size 432x288 with 0 Axes>"
      ]
     },
     "metadata": {},
     "output_type": "display_data"
    }
   ],
   "source": [
    "\n",
    "num_nodes = 25\n",
    "\n",
    "Instance = '25verticesS1_6'\n",
    "Instance_txt = '/'+Instance + '.txt'\n",
    "\n",
    "random.seed(1)\n",
    "G = nx.DiGraph()\n",
    "\n",
    "for i in range(num_nodes):\n",
    "    G.add_node(i)\n",
    "# pos = nx.circular_layout(G)\n",
    "# G = nx.complete_graph(4, nx.DiGraph())\n",
    "# pos = nx.spring_layout(G, k=1)\n",
    "\n",
    "# pos = nx.spring_layout(G, k=1, iterations=20)\n",
    "# nx.draw_networkx_nodes(G, pos, node_size=500)\n",
    "# nx.draw_networkx_edges(G, pos, edgelist=G.edges(), edge_color = 'black')\n",
    "# nx.draw_networkx_labels(G,pos)\n",
    "# plt.show\n",
    "# exit()\n",
    "\n",
    "u_aux = -1\n",
    "v_aux = -1\n",
    "\n",
    "arquivo = open('./' + Instance + Instance_txt,'r')\n",
    "# arquivo = open('.' + Instance_txt,'r')\n",
    "file_lines = arquivo.readlines()\n",
    "last_line = file_lines[len(file_lines)-1]\n",
    "\n",
    "arquivo = open('./' + Instance + Instance_txt,'r')\n",
    "# arquivo = open('.' + Instance_txt,'r')\n",
    "for i in arquivo:\n",
    "    linha_original = i.split()\n",
    "    if linha_original[0][0] == 'f':\n",
    "        linha = linha_original[0].split(',')\n",
    "        \n",
    "        u = linha[0].split('[')[1]\n",
    "        v = linha[1]\n",
    "        p = linha[2]\n",
    "        q = linha[3].split(']')[0]\n",
    "        \n",
    "        if u!= u_aux or v!= v_aux:\n",
    "            if u_aux != -1 and v_aux !=-1:\n",
    "                # pos = nx.spring_layout(G, k=1, iterations=20)\n",
    "                pos = nx.spring_layout(G, k=1, seed = 1)\n",
    "                nx.draw_networkx_nodes(G, pos, node_size=500)\n",
    "                nx.draw_networkx_edges(G, pos, edgelist=G.edges(), edge_color = 'black')\n",
    "                nx.draw_networkx_labels(G,pos)\n",
    "                # plt.show\n",
    "                plt.savefig('./' + Instance + Instance_txt+'-'+str(u_aux) + '_' + str(v_aux) +'.png')\n",
    "                plt.clf()\n",
    "                # print(u_aux,v_aux)\n",
    "\n",
    "            u_aux = u\n",
    "            v_aux = v\n",
    "            G.clear()\n",
    "            # G = nx.create_empty_copy(G)\n",
    "            \n",
    "        G.add_edge(p,q)\n",
    "\n",
    "        if i == last_line:\n",
    "            pos = nx.spring_layout(G, k=1, seed = 1)\n",
    "            nx.draw_networkx_nodes(G, pos, node_size=500)\n",
    "            nx.draw_networkx_edges(G, pos, edgelist=G.edges(), edge_color = 'black')\n",
    "            nx.draw_networkx_labels(G,pos)\n",
    "            # plt.show\n",
    "            plt.savefig('./' + Instance + Instance_txt+'-'+str(u_aux) + '_' + str(v_aux) +'.png')\n",
    "            plt.clf()\n",
    "            # print(u_aux,v_aux)\n",
    "        "
   ]
  },
  {
   "cell_type": "code",
   "execution_count": null,
   "id": "f8bf6ef2",
   "metadata": {},
   "outputs": [],
   "source": []
  }
 ],
 "metadata": {
  "interpreter": {
   "hash": "7620f3d2b8afebb785706a9b7e217b2047cf180856e78161a79fff84bf03db70"
  },
  "kernelspec": {
   "display_name": "Python 3.8.8 ('base')",
   "language": "python",
   "name": "python3"
  },
  "language_info": {
   "codemirror_mode": {
    "name": "ipython",
    "version": 3
   },
   "file_extension": ".py",
   "mimetype": "text/x-python",
   "name": "python",
   "nbconvert_exporter": "python",
   "pygments_lexer": "ipython3",
   "version": "3.8.8"
  }
 },
 "nbformat": 4,
 "nbformat_minor": 5
}
